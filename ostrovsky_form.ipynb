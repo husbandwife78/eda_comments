{
 "cells": [
  {
   "cell_type": "code",
   "execution_count": 2,
   "id": "b07a24ca",
   "metadata": {},
   "outputs": [],
   "source": [
    "e = 0"
   ]
  },
  {
   "cell_type": "code",
   "execution_count": 3,
   "id": "fa6d3804",
   "metadata": {},
   "outputs": [],
   "source": [
    "# 1.\tWas the data shape checked?\n",
    "# o\tCompared against the original file column and row counts (3 pts)\n",
    "# o\tJust printed (1 pt)\n",
    "# o\tNone (0 pts)\n",
    "\n",
    "# Проверка размера косвенно проверена в describe. Прямо нигде не выводилась.\n",
    "e += 1\n"
   ]
  },
  {
   "cell_type": "code",
   "execution_count": 4,
   "id": "89185e67",
   "metadata": {},
   "outputs": [],
   "source": [
    "# 2.\tWere the data types examined and verified?\n",
    "# o\tYes (1 pt)+\n",
    "# o\tNo (0 pts)\n",
    "\n",
    "e += 1"
   ]
  },
  {
   "cell_type": "code",
   "execution_count": 5,
   "id": "713e41e7",
   "metadata": {},
   "outputs": [],
   "source": [
    "# 3.\tWas the check for duplicated records (identical copies of the same entry) performed?\n",
    "# o\tYes (1 pt)\n",
    "# o\tNo (0 pt)\n",
    "\n",
    "e += 1"
   ]
  },
  {
   "cell_type": "code",
   "execution_count": 6,
   "id": "8f267752",
   "metadata": {},
   "outputs": [],
   "source": [
    "# 4.\tWere missing values examined?\n",
    "# o\tYes, column names, missing value counts and percentages (3 pts)\n",
    "# o\tYes, column names and missing value counts (2 pts)\n",
    "# o\tYes, column names only (1 pt)\n",
    "# o\tNo (0 pts)\n",
    "\n",
    "#  проверено толлько количество\n",
    "\n",
    "e += 2"
   ]
  },
  {
   "cell_type": "code",
   "execution_count": 7,
   "id": "f42f7c66",
   "metadata": {},
   "outputs": [],
   "source": [
    "# 5.\tWere the summary statistics examined for each variable?\n",
    "# o\tYes, tables and appropriate charts (2 pts)\n",
    "# o\tYes, tables only (1 pt)\n",
    "# o\tNo (0 pts)\n",
    "\n",
    "# присутствуют только графики. пожалуй, поставлю балл\n",
    "e += 1\n"
   ]
  },
  {
   "cell_type": "code",
   "execution_count": 8,
   "id": "2c551781",
   "metadata": {},
   "outputs": [],
   "source": [
    "# 6.\tWere the summary statistics values verified against the data dictionary (variables description)?\n",
    "# o\tYes, for most variables (4 pts)\n",
    "# o\tYes, occasionally (2 pts)\n",
    "# o\tNo (0 pts)\n",
    "# проверка отсутсвует\n",
    "e += 0\n"
   ]
  },
  {
   "cell_type": "code",
   "execution_count": 9,
   "id": "ac166385",
   "metadata": {},
   "outputs": [],
   "source": [
    "# 7.\tWere feature types (continuous / categorical / other) identified?\n",
    "# o\tYes, for all features (2 pts)\n",
    "# o\tYes, for some features (1 pt)\n",
    "# o\tNo (0 pt)\n",
    "# проверка отсутсвует\n",
    "e += 0"
   ]
  },
  {
   "cell_type": "code",
   "execution_count": 10,
   "id": "a64f575b",
   "metadata": {},
   "outputs": [],
   "source": [
    "# 8.\tWere correlations between numeric variables examined?\n",
    "# o\tYes, using a correlogram (heatmap) (2 pts)\n",
    "# o\tYes, using a table (1 pt)\n",
    "# o\tNo (0 pt)\n",
    "# таблица корреляции присутсвует. heatmap - no\n",
    "e += 1\n"
   ]
  },
  {
   "cell_type": "code",
   "execution_count": 11,
   "id": "1f0aa888",
   "metadata": {},
   "outputs": [],
   "source": [
    "# 9.\tWas the share of survived passengers computed?\n",
    "# o\tYes (1 pt)\n",
    "# o\tNo (0 pts)\n",
    "# график присутсвует\n",
    "e += 1\n"
   ]
  },
  {
   "cell_type": "code",
   "execution_count": 12,
   "id": "47a6f64a",
   "metadata": {},
   "outputs": [],
   "source": [
    "# 10.\tWas the distribution of the sex feature examined?\n",
    "# o\tYes (1 pt)\n",
    "# o\tNo (0 pts)\n",
    "# график присутсвует\n",
    "e += 1"
   ]
  },
  {
   "cell_type": "code",
   "execution_count": 13,
   "id": "24296c27",
   "metadata": {},
   "outputs": [],
   "source": [
    "# 11.\tWas the effect of sex on survival rate examined?\n",
    "# o\tYes, with relevant reasoning (2 pts)\n",
    "# o\tYes (1 pt)\n",
    "# o\tNo (0 pts)\n",
    "\n",
    "# влияние пола не проверено\n",
    "e += 0\n"
   ]
  },
  {
   "cell_type": "code",
   "execution_count": 14,
   "id": "c8a6f514",
   "metadata": {},
   "outputs": [],
   "source": [
    "# 12.\tWas the distribution of the age feature examined?\n",
    "# o\tYes (1 pt)\n",
    "# o\tNo (0 pts)\n",
    "# график присутсвует\n",
    "e += 1\n"
   ]
  },
  {
   "cell_type": "code",
   "execution_count": 15,
   "id": "fc018b6e",
   "metadata": {},
   "outputs": [],
   "source": [
    "# 13.\tWas the effect of age on survival rate examined?\n",
    "# o\tYes, with relevant reasoning (2 pts)\n",
    "# o\tYes (1 pt)\n",
    "# o\tNo (0 pts)\n",
    "\n",
    "# влияние возраста не проверено\n",
    "e += 0"
   ]
  },
  {
   "cell_type": "code",
   "execution_count": 16,
   "id": "ec2c7267",
   "metadata": {},
   "outputs": [],
   "source": [
    "# 14.\tWas the joint effect of sex and age on survival rate examined?\n",
    "# o\tYes (2 pts)\n",
    "# o\tNo (0 pts)\n",
    "# совместное влияние возраста и пола не проверено\n",
    "e += 0"
   ]
  },
  {
   "cell_type": "code",
   "execution_count": 17,
   "id": "0c326f56",
   "metadata": {},
   "outputs": [],
   "source": [
    "# 15.\tWas the distribution of passenger class examined?\n",
    "# o\tYes (1 pt)\n",
    "# o\tNo (0 pts)\n",
    "# график присутсвует\n",
    "e += 1"
   ]
  },
  {
   "cell_type": "code",
   "execution_count": 18,
   "id": "955f7532",
   "metadata": {},
   "outputs": [],
   "source": [
    "# 16.\tWas the effect of passenger class on survival rate examined?\n",
    "# o\tYes, with relevant reasoning (2 pts)\n",
    "# o\tYes (1 pt)\n",
    "# o\tNo (0 pts)\n",
    "# влияние класса не проверено\n",
    "e += 0"
   ]
  },
  {
   "cell_type": "code",
   "execution_count": 19,
   "id": "329f2922",
   "metadata": {},
   "outputs": [],
   "source": [
    "# 17.\tWas the distribution of the SibSp feature examined?\n",
    "# o\tYes (1 pt)\n",
    "# o\tNo (0 pts)\n",
    "# график присутсвует\n",
    "e += 1"
   ]
  },
  {
   "cell_type": "code",
   "execution_count": 20,
   "id": "1948f8e0",
   "metadata": {},
   "outputs": [],
   "source": [
    "# 18.\tWas the effect of the SibSp feature on survival rate examined?\n",
    "# o\tYes, with relevant reasoning (2 pts)\n",
    "# o\tYes (1 pt)\n",
    "# o\tNo (0 pts)\n",
    "# влияние наличия братьев\\сестёр не проверено\n",
    "e += 0"
   ]
  },
  {
   "cell_type": "code",
   "execution_count": 21,
   "id": "78d57813",
   "metadata": {},
   "outputs": [],
   "source": [
    "# 19.\tWas the distribution of the Parch feature examined?\n",
    "# o\tYes (1 pt)\n",
    "# o\tNo (0 pts)\n",
    "# график присутсвует\n",
    "e += 1"
   ]
  },
  {
   "cell_type": "code",
   "execution_count": 22,
   "id": "44dbfba3",
   "metadata": {},
   "outputs": [],
   "source": [
    "# 20.\tWas the effect of the Parch feature on survival rate examined?\n",
    "# o\tYes, with relevant reasoning (2 pts)\n",
    "# o\tYes (1 pt)\n",
    "# o\tNo (0 pts)\n",
    "# влияние наличия родителей не проверено\n",
    "e += 0"
   ]
  },
  {
   "cell_type": "code",
   "execution_count": 23,
   "id": "74d08880",
   "metadata": {},
   "outputs": [],
   "source": [
    "# 21.\tWas a combination (e.g. a sum) of SibSp and Parch features examined?\n",
    "# o\tYes, with relevant reasoning (3 pts)\n",
    "# o\tYes (2 pt)\n",
    "# o\tNo (0 pts)\n",
    "# не проверено\n",
    "e += 0"
   ]
  },
  {
   "cell_type": "code",
   "execution_count": 24,
   "id": "702f6bf1",
   "metadata": {},
   "outputs": [],
   "source": [
    "# 22.\tWas the distribution of fare examined?\n",
    "# o\tYes (1 pt)\n",
    "# o\tNo (0 pts)\n",
    "# график присутсвует\n",
    "e += 1"
   ]
  },
  {
   "cell_type": "code",
   "execution_count": 25,
   "id": "0a13cffa",
   "metadata": {},
   "outputs": [],
   "source": [
    "# 23.\tWas the effect of fare on survival rate examined?\n",
    "# o\tYes, with relevant reasoning (2 pts)\n",
    "# o\tYes (1 pt)\n",
    "# o\tNo (0 pts)\n",
    "# связь не проверена\n",
    "e += 0"
   ]
  },
  {
   "cell_type": "code",
   "execution_count": 26,
   "id": "1ad12ff0",
   "metadata": {},
   "outputs": [],
   "source": [
    "# 24.\tWas the relationship between passenger class and fare examined?\n",
    "# o\tYes, with relevant reasoning (2 pts)\n",
    "# o\tYes (1 pt)\n",
    "# o\tNo (0 pts)\n",
    "# связь не проверена\n",
    "e += 0"
   ]
  },
  {
   "cell_type": "code",
   "execution_count": 27,
   "id": "95f5a41f",
   "metadata": {},
   "outputs": [],
   "source": [
    "# 25.\tWas the distribution of the Embarked feature examined?\n",
    "# o\tYes (1 pt)\n",
    "# o\tNo (0 pts)\n",
    "# график присутсвует\n",
    "e += 1"
   ]
  },
  {
   "cell_type": "code",
   "execution_count": 28,
   "id": "104c7178",
   "metadata": {},
   "outputs": [],
   "source": [
    "# 26.\tWas the effect of the Embarked feature on survival rate examined?\n",
    "# o\tYes, with relevant reasoning (2 pts)\n",
    "# o\tYes (1 pt)\n",
    "# o\tNo (0 pts)\n",
    "# связь не проверена\n",
    "e += 0"
   ]
  },
  {
   "cell_type": "code",
   "execution_count": 29,
   "id": "fefd5b9a",
   "metadata": {},
   "outputs": [],
   "source": [
    "# 27.\tWas the PassengerId field analyzed and found irrelevant?\n",
    "# o\tYes (1 pt)\n",
    "# o\tNo (0 pts)\n",
    "# на наличие нерелевантных не проверена\n",
    "e += 0"
   ]
  },
  {
   "cell_type": "code",
   "execution_count": 30,
   "id": "4c9c9b16",
   "metadata": {},
   "outputs": [],
   "source": [
    "# 28.\tWas the possible application of the Ticket field analyzed (e.g. checking the patterns / bins against the survival ratio)?\n",
    "# o\tYes (1 pt)\n",
    "# o\tNo (0 pts)\n",
    "# связь не проверена\n",
    "e += 0"
   ]
  },
  {
   "cell_type": "code",
   "execution_count": 31,
   "id": "0530c67b",
   "metadata": {},
   "outputs": [],
   "source": [
    "# 29.\tWas the deck (letter) extracted from the cabin feature and examined separately?\n",
    "# o\tYes, with relevant reasoning (3 pts)\n",
    "# o\tYes (2 pts)\n",
    "# o\tNo (0 pts\n",
    "# связь не проверена\n",
    "e += 0"
   ]
  },
  {
   "cell_type": "code",
   "execution_count": 32,
   "id": "dad6a0e1",
   "metadata": {},
   "outputs": [],
   "source": [
    "# 30.\tWere the findings commented in adjacent markdown cells?\n",
    "# o\tYes, in a clear and detailed way (10 pts)\n",
    "# o\tFor major points only (6 pts)\n",
    "# o\tOccasionally (3 pts)\n",
    "# o\tNo (0 pts)\n",
    "\n",
    "# комментарии присутвуют почти под каждым построенным плотом.\n",
    "# но сформулированные выводы в большинстве довольно \n",
    "# поверхостные и на 10 баллов недотягивающие \n",
    "e += 6"
   ]
  },
  {
   "cell_type": "code",
   "execution_count": 33,
   "id": "fad1f4bd",
   "metadata": {},
   "outputs": [],
   "source": [
    "# 31.\tWas the conclusion provided?\n",
    "# o\tYes, with the findings summary (4 pts)\n",
    "# o\tYes, with a brief assessment only (2 pts)\n",
    "# o\tNo (0 pts)\n",
    "\n",
    "# написано что сильная корреляция между признаками отсутвует\n",
    "# но это точно не так. например 80% процентов погибших является мужчинами\n",
    "# наличие связи и корреляции не следует проверять \n",
    "# только засчёт матрицы корреляции, как минимум потому что она проверяет \n",
    "# только количественные переменные, игнорируя качественные, например как \n",
    "# в нашем случае пол, который является определяющим признаком, выживет человек \n",
    "# или нет. \n",
    "e += 0"
   ]
  },
  {
   "cell_type": "code",
   "execution_count": 34,
   "id": "7c39ccbd",
   "metadata": {},
   "outputs": [
    {
     "data": {
      "text/plain": [
       "21"
      ]
     },
     "execution_count": 34,
     "metadata": {},
     "output_type": "execute_result"
    }
   ],
   "source": [
    "e\n",
    "# в сумме вышел 21 балл"
   ]
  },
  {
   "cell_type": "markdown",
   "id": "2ca21966",
   "metadata": {},
   "source": [
    "как видно из вопросов следовало построить сводные таблицы по каждой \n",
    "переменной. к сожалению, в отсутствие в вашем анализе проверка \n",
    "на наличие связи пременной survived с другими пременными, что не позволило\n",
    "получить баллы на болльшое количество баллов. \n",
    "если увидеть этот датасет, то к этому наверное сложно придти\n",
    "так что пожалуй рассраиваться не стоит\n",
    "\n",
    "если считаете, что я где-то обделил вас, пишите на discord - husbandwife78, имя - Петя.\n",
    "Удачи в дальнейшем!!!\n"
   ]
  },
  {
   "cell_type": "code",
   "execution_count": null,
   "id": "dde9bcbf",
   "metadata": {},
   "outputs": [],
   "source": []
  }
 ],
 "metadata": {
  "kernelspec": {
   "display_name": "Python 3 (betelgeuse)",
   "language": "python",
   "name": "betelgeuse"
  },
  "language_info": {
   "codemirror_mode": {
    "name": "ipython",
    "version": 3
   },
   "file_extension": ".py",
   "mimetype": "text/x-python",
   "name": "python",
   "nbconvert_exporter": "python",
   "pygments_lexer": "ipython3",
   "version": "3.9.7"
  }
 },
 "nbformat": 4,
 "nbformat_minor": 5
}
